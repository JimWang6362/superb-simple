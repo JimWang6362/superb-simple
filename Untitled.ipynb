{
 "cells": [
  {
   "cell_type": "code",
   "execution_count": 4,
   "metadata": {
    "collapsed": true
   },
   "outputs": [],
   "source": [
    "from math import *"
   ]
  },
  {
   "cell_type": "markdown",
   "metadata": {},
   "source": [
    "hi. this is my notebook."
   ]
  },
  {
   "cell_type": "code",
   "execution_count": 5,
   "metadata": {
    "collapsed": false
   },
   "outputs": [
    {
     "name": "stdout",
     "output_type": "stream",
     "text": [
      "3.141592653589793\n"
     ]
    }
   ],
   "source": [
    "print(pi)"
   ]
  },
  {
   "cell_type": "markdown",
   "metadata": {},
   "source": [
    "# this is my notebook\n",
    "## this\n",
    "### this\n",
    "#### this"
   ]
  },
  {
   "cell_type": "markdown",
   "metadata": {},
   "source": [
    "```Java\n",
    "\n",
    "public class test{\n",
    "    public static void main(String args[]){\n",
    "    \n",
    "        System.out.println(\"Hello\")\n",
    "    }\n",
    "\n",
    "}\n",
    "\n",
    "```"
   ]
  },
  {
   "cell_type": "code",
   "execution_count": 6,
   "metadata": {
    "collapsed": false
   },
   "outputs": [
    {
     "name": "stdout",
     "output_type": "stream",
     "text": [
      " 磁碟區 C 中的磁碟是 JavaDeveloper\n",
      " 磁碟區序號:  4A8D-EFA7\n",
      "\n",
      " C:\\Users\\Student\\Desktop 的目錄\n",
      "\n",
      "2016/10/26  下午 07:53    <DIR>          .\n",
      "2016/10/26  下午 07:53    <DIR>          ..\n",
      "2016/10/26  下午 07:45    <DIR>          .ipynb_checkpoints\n",
      "2015/11/04  上午 09:44    <DIR>          Aptana Studio 3.6.1\n",
      "2016/10/03  下午 01:53        11,835,588 Data-Structures-3rd-Edition.pdf\n",
      "2016/10/26  下午 06:52             2,159 Git Shell.lnk\n",
      "2016/10/26  下午 06:52               308 GitHub.appref-ms\n",
      "2016/10/18  下午 02:27    <DIR>          JAVA\n",
      "2015/12/16  下午 05:13    <DIR>          Microsoft Visual Studio Express 2012 for Web\n",
      "2016/10/24  下午 08:03               708 SQLQuery3.sql\n",
      "2016/10/12  下午 02:08    <DIR>          SQLServer2012Documentation_June_CHT\n",
      "2016/10/14  下午 04:25    <DIR>          T-SQL\n",
      "2016/10/26  下午 07:53             1,622 Untitled.ipynb\n",
      "               5 個檔案      11,840,385 位元組\n",
      "               8 個目錄  99,139,117,056 位元組可用\n"
     ]
    }
   ],
   "source": [
    "!dir"
   ]
  },
  {
   "cell_type": "markdown",
   "metadata": {},
   "source": [
    "this is a polynomial: $ax^2+bx+c$"
   ]
  },
  {
   "cell_type": "markdown",
   "metadata": {},
   "source": [
    "> this is something from some website\n",
    "\n",
    "> aaa\n",
    "\n",
    "> bbb"
   ]
  },
  {
   "cell_type": "markdown",
   "metadata": {},
   "source": [
    "---"
   ]
  },
  {
   "cell_type": "markdown",
   "metadata": {},
   "source": [
    "* introduction\n",
    "* history"
   ]
  },
  {
   "cell_type": "markdown",
   "metadata": {},
   "source": [
    "| Tables        | Are           | Cool   |\n",
    "| ------------- |:-------------:| :-----: |\n",
    "| col $3$ is      | right-aligned | $1600$ |\n",
    "| col $2$ is      | centered      |   $12$ |\n",
    "| zebra stripes | are neat      |    $1$ |"
   ]
  },
  {
   "cell_type": "code",
   "execution_count": 9,
   "metadata": {
    "collapsed": false
   },
   "outputs": [
    {
     "name": "stdout",
     "output_type": "stream",
     "text": [
      "0\n",
      "1\n",
      "2\n",
      "3\n",
      "4\n",
      "5\n",
      "6\n",
      "7\n",
      "8\n",
      "9\n"
     ]
    }
   ],
   "source": [
    "for j in range(10):\n",
    "    print(j)"
   ]
  },
  {
   "cell_type": "code",
   "execution_count": 26,
   "metadata": {
    "collapsed": false
   },
   "outputs": [
    {
     "data": {
      "text/plain": [
       "range"
      ]
     },
     "execution_count": 26,
     "metadata": {},
     "output_type": "execute_result"
    }
   ],
   "source": [
    "a=range(10)\n",
    "type(a)"
   ]
  },
  {
   "cell_type": "code",
   "execution_count": 27,
   "metadata": {
    "collapsed": true
   },
   "outputs": [],
   "source": [
    "import numpy as np"
   ]
  },
  {
   "cell_type": "code",
   "execution_count": 34,
   "metadata": {
    "collapsed": false
   },
   "outputs": [
    {
     "data": {
      "text/plain": [
       "3.141592653589793"
      ]
     },
     "execution_count": 34,
     "metadata": {},
     "output_type": "execute_result"
    }
   ],
   "source": [
    "pi"
   ]
  },
  {
   "cell_type": "code",
   "execution_count": 35,
   "metadata": {
    "collapsed": false,
    "scrolled": true
   },
   "outputs": [
    {
     "data": {
      "text/plain": [
       "array([ 0.])"
      ]
     },
     "execution_count": 35,
     "metadata": {},
     "output_type": "execute_result"
    }
   ],
   "source": [
    " np.arange(0,10.,20)\n",
    "[0.,,10.]"
   ]
  },
  {
   "cell_type": "code",
   "execution_count": 22,
   "metadata": {
    "collapsed": false
   },
   "outputs": [
    {
     "name": "stdout",
     "output_type": "stream",
     "text": [
      "Overwriting looptest.java\n"
     ]
    }
   ],
   "source": [
    "%%file looptest.java\n",
    "public class looptest{\n",
    "    public static void main(String args[]){\n",
    "\n",
    "        int arr[]={0,1,2,3,4,5,6,7,8,9};\n",
    "        //System.out.println(arr.length);\n",
    "        for(int j:arr){\n",
    "            System.out.println(j);\n",
    "        }\n",
    "    }\n",
    "}"
   ]
  },
  {
   "cell_type": "code",
   "execution_count": 23,
   "metadata": {
    "collapsed": false
   },
   "outputs": [
    {
     "name": "stdout",
     "output_type": "stream",
     "text": [
      "0\n",
      "1\n",
      "2\n",
      "3\n",
      "4\n",
      "5\n",
      "6\n",
      "7\n",
      "8\n",
      "9\n"
     ]
    }
   ],
   "source": [
    "!javac looptest.java\n",
    "!java looptest"
   ]
  },
  {
   "cell_type": "code",
   "execution_count": null,
   "metadata": {
    "collapsed": true
   },
   "outputs": [],
   "source": []
  }
 ],
 "metadata": {
  "anaconda-cloud": {},
  "kernelspec": {
   "display_name": "Python [default]",
   "language": "python",
   "name": "python3"
  },
  "language_info": {
   "codemirror_mode": {
    "name": "ipython",
    "version": 3
   },
   "file_extension": ".py",
   "mimetype": "text/x-python",
   "name": "python",
   "nbconvert_exporter": "python",
   "pygments_lexer": "ipython3",
   "version": "3.5.2"
  }
 },
 "nbformat": 4,
 "nbformat_minor": 1
}
